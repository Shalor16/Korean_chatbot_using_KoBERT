{
 "cells": [
  {
   "cell_type": "code",
   "execution_count": null,
   "id": "6d43b698",
   "metadata": {},
   "outputs": [],
   "source": [
    "import pandas as pd\n",
    "import csv"
   ]
  },
  {
   "cell_type": "code",
   "execution_count": null,
   "id": "b8a740a0",
   "metadata": {},
   "outputs": [],
   "source": [
    "data = pd.read_csv('restaurant_train.csv')"
   ]
  },
  {
   "cell_type": "code",
   "execution_count": null,
   "id": "d812a228",
   "metadata": {},
   "outputs": [],
   "source": [
    "questions = []\n",
    "answers = []"
   ]
  },
  {
   "cell_type": "code",
   "execution_count": null,
   "id": "0ba65737",
   "metadata": {
    "lines_to_next_cell": 0
   },
   "outputs": [],
   "source": [
    "for i in range(len(data)-1):\n",
    "    if (data.iloc[i].QA여부=='q' and data.iloc[i+1].QA여부=='a') and (data.iloc[i].QA번호 == data.iloc[i+1].QA번호):\n",
    "        questions.append(data.iloc[i].발화문)\n",
    "        answers.append(data.iloc[i+1].발화문)\n",
    "    \n",
    "print(questions[0:10], answers[0:10])"
   ]
  },
  {
   "cell_type": "code",
   "execution_count": null,
   "id": "ae4ef7e3",
   "metadata": {},
   "outputs": [],
   "source": [
    "f=open('train_label.tsv','w', encoding='utf-8', newline='')\n",
    "w = csv.writer(f, delimiter='\\t')\n",
    "for i in range(len(questions)):\n",
    "    w.writerow([questions[i],i])\n",
    "f.close"
   ]
  },
  {
   "cell_type": "code",
   "execution_count": null,
   "id": "884ff82a",
   "metadata": {},
   "outputs": [],
   "source": [
    "f=open('result_answer.tsv','w', encoding='utf-8', newline='')\n",
    "w = csv.writer(f, delimiter='\\t')\n",
    "for i in range(len(questions)):\n",
    "    w.writerow([i,answers[i]])\n",
    "f.close"
   ]
  }
 ],
 "metadata": {
  "jupytext": {
   "encoding": "# -*- coding: utf-8 -*-",
   "formats": "ipynb,py:light",
   "text_representation": {
    "extension": ".py",
    "format_name": "light",
    "format_version": "1.5",
    "jupytext_version": "1.13.0"
   }
  },
  "kernelspec": {
   "display_name": "Python 3",
   "language": "python",
   "name": "python3"
  },
  "language_info": {
   "codemirror_mode": {
    "name": "ipython",
    "version": 3
   },
   "file_extension": ".py",
   "mimetype": "text/x-python",
   "name": "python",
   "nbconvert_exporter": "python",
   "pygments_lexer": "ipython3",
   "version": "3.8.5"
  }
 },
 "nbformat": 4,
 "nbformat_minor": 5
}
